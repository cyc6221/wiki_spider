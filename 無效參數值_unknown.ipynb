{
 "cells": [
  {
   "cell_type": "markdown",
   "metadata": {},
   "source": [
    "這個爬蟲可以抓到所有在中文維基百科「[分類:引文格式1錯誤：無效參數值](https://zh.wikipedia.org/wiki/Category:引文格式1错误：无效参数值)」裡，因為`url-status=bot:unknown`而報錯的條目，將其刪除即可除錯。\n",
    "\n",
    "> for loop 的最後一段 `if(cnt >= 10): break` 只是控制輸出在10條以內，可以依使用上調整。"
   ]
  },
  {
   "cell_type": "code",
   "execution_count": 1,
   "metadata": {},
   "outputs": [],
   "source": [
    "import requests as req\n",
    "from bs4 import BeautifulSoup as bs\n",
    "from pprint import pprint"
   ]
  },
  {
   "cell_type": "code",
   "execution_count": 2,
   "metadata": {},
   "outputs": [
    {
     "name": "stdout",
     "output_type": "stream",
     "text": [
      "totol 303, and page 2\n"
     ]
    }
   ],
   "source": [
    "next_page = []\n",
    "url = \"https://zh.wikipedia.org/wiki/Category:引文格式1错误：无效参数值\"\n",
    "next_page.append(url)\n",
    "page_num = 1\n",
    "num = 0\n",
    "pre_url = 'https://zh.wikipedia.org'\n",
    "\n",
    "check_url = []\n",
    "\n",
    "for page in next_page:\n",
    "    res = req.get(page)\n",
    "    soup = bs(res.text, \"lxml\")\n",
    "    once = 0\n",
    "    for link in soup.select('div#mw-pages a'):\n",
    "        link_title = link.get_text()\n",
    "        #print(link_title)\n",
    "\n",
    "        link_url = 'https://zh.wikipedia.org' + link.get('href')\n",
    "        #print(link_url)\n",
    "\n",
    "        if(link_title == \"下一页\" and once == 0) :\n",
    "            page_num += 1\n",
    "            next_page.append(link_url)\n",
    "            once += 1\n",
    "            break\n",
    "\n",
    "\n",
    "    for link in soup.select('div.mw-category-group li'):\n",
    "        num += 1\n",
    "\n",
    "        temp_url = link.a.get('href')\n",
    "        if(temp_url is not None):\n",
    "            temp_url = pre_url + temp_url\n",
    "            #print('https://zh.wikipedia.org' + link.a.get('href'))\n",
    "            temp_title = link.get_text()\n",
    "            #print(link.get_text())\n",
    "\n",
    "            check_url.append(temp_url)\n",
    "\n",
    "print(\"totol \" + str(num) + \", and page \" + str(page_num))"
   ]
  },
  {
   "cell_type": "code",
   "execution_count": 3,
   "metadata": {},
   "outputs": [
    {
     "name": "stdout",
     "output_type": "stream",
     "text": [
      "1. 2001年9月逝世人物列表 - 维基百科，自由的百科全书\n",
      "https://zh.wikipedia.org/wiki/2001%E5%B9%B49%E6%9C%88%E9%80%9D%E4%B8%96%E4%BA%BA%E7%89%A9%E5%88%97%E8%A1%A8\n",
      "2. 法华三部经 - 维基百科，自由的百科全书\n",
      "https://zh.wikipedia.org/wiki/%E6%B3%95%E5%8D%8E%E4%B8%89%E9%83%A8%E7%BB%8F\n",
      "3. 法國唱片出版業公會 - 维基百科，自由的百科全书\n",
      "https://zh.wikipedia.org/wiki/%E6%B3%95%E5%9C%8B%E5%94%B1%E7%89%87%E5%87%BA%E7%89%88%E6%A5%AD%E5%85%AC%E6%9C%83\n",
      "4. 法蘭黛樂團 - 维基百科，自由的百科全书\n",
      "https://zh.wikipedia.org/wiki/%E6%B3%95%E8%98%AD%E9%BB%9B%E6%A8%82%E5%9C%98\n",
      "5. 泡沫海 - 维基百科，自由的百科全书\n",
      "https://zh.wikipedia.org/wiki/%E6%B3%A1%E6%B2%AB%E6%B5%B7\n",
      "6. 波士顿轻轨绿线 - 维基百科，自由的百科全书\n",
      "https://zh.wikipedia.org/wiki/%E6%B3%A2%E5%A3%AB%E9%A1%BF%E8%BD%BB%E8%BD%A8%E7%BB%BF%E7%BA%BF\n",
      "7. 泰晤士高等教育 - 维基百科，自由的百科全书\n",
      "https://zh.wikipedia.org/wiki/%E6%B3%B0%E6%99%A4%E5%A3%AB%E9%AB%98%E7%AD%89%E6%95%99%E8%82%B2\n",
      "8. 洛巴塔 - 维基百科，自由的百科全书\n",
      "https://zh.wikipedia.org/wiki/%E6%B4%9B%E5%B7%B4%E5%A1%94\n",
      "9. 潛龍諜影4 愛國者之槍 - 维基百科，自由的百科全书\n",
      "https://zh.wikipedia.org/wiki/%E6%BD%9B%E9%BE%8D%E8%AB%9C%E5%BD%B14_%E6%84%9B%E5%9C%8B%E8%80%85%E4%B9%8B%E6%A7%8D\n",
      "10. 澳大利亚原住民 - 维基百科，自由的百科全书\n",
      "https://zh.wikipedia.org/wiki/%E6%BE%B3%E5%A4%A7%E5%88%A9%E4%BA%9A%E5%8E%9F%E4%BD%8F%E6%B0%91\n",
      "==================================================\n",
      "There are 303 articles, and 10 have errors.\n"
     ]
    }
   ],
   "source": [
    "wrong = 0\n",
    "for page in check_url:\n",
    "    res = req.get(page)\n",
    "    soup = bs(res.text, \"lxml\")\n",
    "\n",
    "    for link in soup.select('span.error.citation-comment'):\n",
    "        link_txt = link.get_text()\n",
    "        # ppring(link_txt)\n",
    "\n",
    "        if(link_txt.find(\"unknown\") != -1 and soup.title.text.find(\"Citation\") == -1):\n",
    "            wrong += 1\n",
    "            print(str(wrong) + \". \" + soup.title.text)\n",
    "            print(page)\n",
    "            break\n",
    "\n",
    "    if(wrong >= 10): break\n",
    "\n",
    "print(\"=\" * 50)\n",
    "print(\"There are \" + str(num) + \" articles, and \" + str(wrong) + \" have errors.\")"
   ]
  }
 ],
 "metadata": {
  "kernelspec": {
   "display_name": "Python 3",
   "language": "python",
   "name": "python3"
  },
  "language_info": {
   "codemirror_mode": {
    "name": "ipython",
    "version": 3
   },
   "file_extension": ".py",
   "mimetype": "text/x-python",
   "name": "python",
   "nbconvert_exporter": "python",
   "pygments_lexer": "ipython3",
   "version": "3.11.3"
  }
 },
 "nbformat": 4,
 "nbformat_minor": 2
}
