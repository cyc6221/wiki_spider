{
 "cells": [
  {
   "cell_type": "markdown",
   "metadata": {},
   "source": [
    "這個爬蟲可以抓到所有在中文維基百科「[分類:引文格式1錯誤：periodical系列參數與模板類型不匹配](https://zh.wikipedia.org/wiki/Category:引文格式1错误：periodical系列参数与模板类型不匹配)」裡，因為誤用'magazine'與'newspaper'參數而報錯的條目，將參考來源改為正確的參數即可除錯。\n",
    "\n",
    "> for loop 的最後一段 `if(cnt >= 10): break` 只是控制輸出在10條以內，可以依使用上調整。"
   ]
  },
  {
   "cell_type": "code",
   "execution_count": 2,
   "metadata": {},
   "outputs": [],
   "source": [
    "import requests as req\n",
    "from bs4 import BeautifulSoup as bs\n",
    "from pprint import pprint"
   ]
  },
  {
   "cell_type": "code",
   "execution_count": 3,
   "metadata": {},
   "outputs": [
    {
     "name": "stdout",
     "output_type": "stream",
     "text": [
      "There are 1755 articles in 9 pages.\n"
     ]
    }
   ],
   "source": [
    "next_page = []\n",
    "url = \"https://zh.wikipedia.org/wiki/Category:引文格式1错误：periodical系列参数与模板类型不匹配\"\n",
    "next_page.append(url)\n",
    "page_num = 1\n",
    "num = 0\n",
    "pre_url = 'https://zh.wikipedia.org'\n",
    "\n",
    "check_url = []\n",
    "\n",
    "for page in next_page:\n",
    "    res = req.get(page)\n",
    "    soup = bs(res.text, \"lxml\")\n",
    "    once = 0\n",
    "    for link in soup.select('div#mw-pages a'):\n",
    "        link_title = link.get_text()\n",
    "        #print(link_title)\n",
    "\n",
    "        link_url = 'https://zh.wikipedia.org' + link.get('href')\n",
    "        #print(link_url)\n",
    "\n",
    "        if(link_title == \"下一页\" and once == 0) :\n",
    "            page_num += 1\n",
    "            next_page.append(link_url)\n",
    "            once += 1\n",
    "            break\n",
    "\n",
    "\n",
    "    for link in soup.select('div.mw-category-group li'):\n",
    "        num += 1\n",
    "\n",
    "        temp_url = link.a.get('href')\n",
    "        if(temp_url is not None):\n",
    "            temp_url = pre_url + temp_url\n",
    "            #print('https://zh.wikipedia.org' + link.a.get('href'))\n",
    "            temp_title = link.get_text()\n",
    "            #print(link.get_text())\n",
    "\n",
    "            check_url.append(temp_url)\n",
    "\n",
    "print(\"There are \" + str(num) + \" articles in \" + str(page_num) + \" pages.\")"
   ]
  },
  {
   "cell_type": "code",
   "execution_count": 5,
   "metadata": {},
   "outputs": [
    {
     "name": "stdout",
     "output_type": "stream",
     "text": [
      "1. Crooked Rain, Crooked Rain - 维基百科，自由的百科全书\n",
      "https://zh.wikipedia.org/wiki/Crooked_Rain,_Crooked_Rain\n",
      "2. CSI犯罪現場：謀殺的三維 - 维基百科，自由的百科全书\n",
      "https://zh.wikipedia.org/wiki/CSI%E7%8A%AF%E7%BD%AA%E7%8F%BE%E5%A0%B4%EF%BC%9A%E8%AC%80%E6%AE%BA%E7%9A%84%E4%B8%89%E7%B6%AD\n",
      "3. Cö shu Nie - 维基百科，自由的百科全书\n",
      "https://zh.wikipedia.org/wiki/C%C3%B6_shu_Nie\n",
      "4. 蠕形蟎屬 - 维基百科，自由的百科全书\n",
      "https://zh.wikipedia.org/wiki/%E8%A0%95%E5%BD%A2%E8%9F%8E%E5%B1%AC\n",
      "5. Dive Bar Tour - 维基百科，自由的百科全书\n",
      "https://zh.wikipedia.org/wiki/Dive_Bar_Tour\n",
      "6. Facebook Portal - 维基百科，自由的百科全书\n",
      "https://zh.wikipedia.org/wiki/Facebook_Portal\n",
      "7. Facetmobile - 维基百科，自由的百科全书\n",
      "https://zh.wikipedia.org/wiki/Facetmobile\n",
      "8. FaZe Clan - 维基百科，自由的百科全书\n",
      "https://zh.wikipedia.org/wiki/FaZe_Clan\n",
      "9. Game Boy - 维基百科，自由的百科全书\n",
      "https://zh.wikipedia.org/wiki/Game_Boy\n",
      "10. GT赛车3 A-Spec - 维基百科，自由的百科全书\n",
      "https://zh.wikipedia.org/wiki/GT%E8%B5%9B%E8%BD%A63_A-Spec\n",
      "==================================================\n",
      "There are 10 articles with error because 'magazine' parameter.\n"
     ]
    }
   ],
   "source": [
    "# magazine\n",
    "cnt = 0\n",
    "for page in check_url:\n",
    "    res = req.get(page)\n",
    "    soup = bs(res.text, \"lxml\")\n",
    "\n",
    "    for link in soup.select('span.error.citation-comment'):\n",
    "        link_txt = link.get_text()\n",
    "        # ppring(link_txt)\n",
    "\n",
    "        if(link_txt.find(\"magazine\") != -1):\n",
    "            cnt += 1\n",
    "            print(str(cnt) + \". \" + soup.title.text)\n",
    "            print(page)\n",
    "            break\n",
    "    \n",
    "    if(cnt >= 10): break\n",
    "\n",
    "print(\"=\" * 50)\n",
    "print(\"There are \" + str(cnt) + \" articles with error because 'magazine' parameter.\")"
   ]
  },
  {
   "cell_type": "code",
   "execution_count": 6,
   "metadata": {},
   "outputs": [
    {
     "name": "stdout",
     "output_type": "stream",
     "text": [
      "1. 123Movies - 维基百科，自由的百科全书\n",
      "https://zh.wikipedia.org/wiki/123Movies\n",
      "2. 2001年9月逝世人物列表 - 维基百科，自由的百科全书\n",
      "https://zh.wikipedia.org/wiki/2001%E5%B9%B49%E6%9C%88%E9%80%9D%E4%B8%96%E4%BA%BA%E7%89%A9%E5%88%97%E8%A1%A8\n",
      "3. 2011年热带风暴布雷特 - 维基百科，自由的百科全书\n",
      "https://zh.wikipedia.org/wiki/2011%E5%B9%B4%E7%83%AD%E5%B8%A6%E9%A3%8E%E6%9A%B4%E5%B8%83%E9%9B%B7%E7%89%B9\n",
      "4. 2011年热带风暴艾米莉 - 维基百科，自由的百科全书\n",
      "https://zh.wikipedia.org/wiki/2011%E5%B9%B4%E7%83%AD%E5%B8%A6%E9%A3%8E%E6%9A%B4%E8%89%BE%E7%B1%B3%E8%8E%89\n",
      "5. 2013年亞洲盃男子曲棍球賽 - 维基百科，自由的百科全书\n",
      "https://zh.wikipedia.org/wiki/2013%E5%B9%B4%E4%BA%9E%E6%B4%B2%E7%9B%83%E7%94%B7%E5%AD%90%E6%9B%B2%E6%A3%8D%E7%90%83%E8%B3%BD\n",
      "6. 2014年世界盃女子曲棍球賽 - 维基百科，自由的百科全书\n",
      "https://zh.wikipedia.org/wiki/2014%E5%B9%B4%E4%B8%96%E7%95%8C%E7%9B%83%E5%A5%B3%E5%AD%90%E6%9B%B2%E6%A3%8D%E7%90%83%E8%B3%BD\n",
      "7. 2014年格鲁舍夫斯基大街骚乱 - 维基百科，自由的百科全书\n",
      "https://zh.wikipedia.org/wiki/2014%E5%B9%B4%E6%A0%BC%E9%B2%81%E8%88%8D%E5%A4%AB%E6%96%AF%E5%9F%BA%E5%A4%A7%E8%A1%97%E9%AA%9A%E4%B9%B1\n",
      "8. 2014年至2015年英格蘭足球超級聯賽 - 维基百科，自由的百科全书\n",
      "https://zh.wikipedia.org/wiki/2014%E5%B9%B4%E8%87%B32015%E5%B9%B4%E8%8B%B1%E6%A0%BC%E8%98%AD%E8%B6%B3%E7%90%83%E8%B6%85%E7%B4%9A%E8%81%AF%E8%B3%BD\n",
      "9. 2015年塞維亞空中巴士A400M空難 - 维基百科，自由的百科全书\n",
      "https://zh.wikipedia.org/wiki/2015%E5%B9%B4%E5%A1%9E%E7%B6%AD%E4%BA%9E%E7%A9%BA%E4%B8%AD%E5%B7%B4%E5%A3%ABA400M%E7%A9%BA%E9%9B%A3\n",
      "10. 2015年安卡拉爆炸案 - 维基百科，自由的百科全书\n",
      "https://zh.wikipedia.org/wiki/2015%E5%B9%B4%E5%AE%89%E5%8D%A1%E6%8B%89%E7%88%86%E7%82%B8%E6%A1%88\n",
      "==================================================\n",
      "There are 10 articles with error because 'newspaper' parameter.\n"
     ]
    }
   ],
   "source": [
    "# newspaper\n",
    "cnt = 0\n",
    "for page in check_url:\n",
    "    res = req.get(page)\n",
    "    soup = bs(res.text, \"lxml\")\n",
    "\n",
    "    for link in soup.select('span.error.citation-comment'):\n",
    "        link_txt = link.get_text()\n",
    "        # ppring(link_txt)\n",
    "\n",
    "        if(link_txt.find(\"newspaper\") != -1):\n",
    "            cnt += 1\n",
    "            print(str(cnt) + \". \" + soup.title.text)\n",
    "            print(page)\n",
    "            break\n",
    "    \n",
    "    if(cnt >= 10): break\n",
    "\n",
    "print(\"=\" * 50)\n",
    "print(\"There are \" + str(cnt) + \" articles with error because 'newspaper' parameter.\")"
   ]
  }
 ],
 "metadata": {
  "kernelspec": {
   "display_name": "Python 3",
   "language": "python",
   "name": "python3"
  },
  "language_info": {
   "codemirror_mode": {
    "name": "ipython",
    "version": 3
   },
   "file_extension": ".py",
   "mimetype": "text/x-python",
   "name": "python",
   "nbconvert_exporter": "python",
   "pygments_lexer": "ipython3",
   "version": "3.11.3"
  }
 },
 "nbformat": 4,
 "nbformat_minor": 2
}
