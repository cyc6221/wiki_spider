{
 "cells": [
  {
   "cell_type": "markdown",
   "metadata": {},
   "source": [
    "這個爬蟲可以抓到所有在中文維基百科「[分類:需要清除快取的頁面](https://zh.wikipedia.org/wiki/Category:需要清除快取的頁面)」裡分類為空的頁面，執行空編輯即可以刷新頁面，便可將分類正確移除。\n",
    "\n",
    "注意：月份為當月的分類無法移除，須等至下個月份才能正確移除。"
   ]
  },
  {
   "cell_type": "code",
   "execution_count": 1,
   "metadata": {},
   "outputs": [],
   "source": [
    "import requests as req\n",
    "from bs4 import BeautifulSoup as bs\n",
    "from pprint import pprint"
   ]
  },
  {
   "cell_type": "code",
   "execution_count": 2,
   "metadata": {},
   "outputs": [
    {
     "name": "stdout",
     "output_type": "stream",
     "text": [
      " 自2024年3月需要澄清文字的条目‎ (空)https://zh.wikipedia.org/wiki/Category:%E8%87%AA2024%E5%B9%B43%E6%9C%88%E9%9C%80%E8%A6%81%E6%BE%84%E6%B8%85%E6%96%87%E5%AD%97%E7%9A%84%E6%9D%A1%E7%9B%AE\n",
      " 韩国法学院‎ (空)https://zh.wikipedia.org/wiki/Category:%E9%9F%A9%E5%9B%BD%E6%B3%95%E5%AD%A6%E9%99%A2\n",
      " 自2024年2月需要從義大利語維基百科翻譯的條目‎ (空)https://zh.wikipedia.org/wiki/Category:%E8%87%AA2024%E5%B9%B42%E6%9C%88%E9%9C%80%E8%A6%81%E5%BE%9E%E7%BE%A9%E5%A4%A7%E5%88%A9%E8%AA%9E%E7%B6%AD%E5%9F%BA%E7%99%BE%E7%A7%91%E7%BF%BB%E8%AD%AF%E7%9A%84%E6%A2%9D%E7%9B%AE\n",
      " 自2024年3月有非常模棱两可或者十分空泛语句的条目‎ (空)https://zh.wikipedia.org/wiki/Category:%E8%87%AA2024%E5%B9%B43%E6%9C%88%E6%9C%89%E9%9D%9E%E5%B8%B8%E6%A8%A1%E6%A3%B1%E4%B8%A4%E5%8F%AF%E6%88%96%E8%80%85%E5%8D%81%E5%88%86%E7%A9%BA%E6%B3%9B%E8%AF%AD%E5%8F%A5%E7%9A%84%E6%9D%A1%E7%9B%AE\n",
      " 自2024年3月陳述與來源不符的條目‎ (空)https://zh.wikipedia.org/wiki/Category:%E8%87%AA2024%E5%B9%B43%E6%9C%88%E9%99%B3%E8%BF%B0%E8%88%87%E4%BE%86%E6%BA%90%E4%B8%8D%E7%AC%A6%E7%9A%84%E6%A2%9D%E7%9B%AE\n",
      "totol 5893, and wrong 5\n"
     ]
    }
   ],
   "source": [
    "next_page = []\n",
    "url = \"https://zh.wikipedia.org/wiki/Category:需要清除快取的頁面\"\n",
    "next_page.append(url)\n",
    "num = 0\n",
    "wrong = 0\n",
    "pre_url = 'https://zh.wikipedia.org'\n",
    "\n",
    "for page in next_page:\n",
    "    res = req.get(page)\n",
    "    soup = bs(res.text, \"lxml\")\n",
    "    once = 0\n",
    "    for link in soup.select('div#mw-subcategories a'):\n",
    "        link_title = link.get_text()\n",
    "        #print(link_title)\n",
    "\n",
    "        link_url = 'https://zh.wikipedia.org' + link.get('href')\n",
    "        #print(link_url)\n",
    "\n",
    "        if(link_title == \"下一页\" and once == 0) :\n",
    "            next_page.append(link_url)\n",
    "            once += 1\n",
    "            break\n",
    "\n",
    "\n",
    "    for link in soup.select('div#mw-subcategories li div.CategoryTreeItem'):\n",
    "        num += 1\n",
    "\n",
    "        temp_url = link.a.get('href')\n",
    "        if(temp_url is not None):\n",
    "            temp_url = pre_url + temp_url\n",
    "            #print('https://zh.wikipedia.org' + link.a.get('href'))\n",
    "            temp_title = link.get_text()\n",
    "            #print(link.get_text())\n",
    "\n",
    "            if(temp_title.find(\"(空)\") != -1):\n",
    "                wrong += 1\n",
    "                print(temp_title+temp_url)\n",
    "                #print(temp_title+temp_url)\n",
    "\n",
    "print(\"totol \" + str(num) + \", and wrong \" + str(wrong))"
   ]
  }
 ],
 "metadata": {
  "kernelspec": {
   "display_name": "Python 3",
   "language": "python",
   "name": "python3"
  },
  "language_info": {
   "codemirror_mode": {
    "name": "ipython",
    "version": 3
   },
   "file_extension": ".py",
   "mimetype": "text/x-python",
   "name": "python",
   "nbconvert_exporter": "python",
   "pygments_lexer": "ipython3",
   "version": "3.11.3"
  }
 },
 "nbformat": 4,
 "nbformat_minor": 2
}
